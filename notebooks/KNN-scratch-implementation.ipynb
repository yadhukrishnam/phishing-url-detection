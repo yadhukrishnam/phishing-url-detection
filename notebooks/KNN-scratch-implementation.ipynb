{
 "cells": [
  {
   "cell_type": "markdown",
   "id": "4dce6c8c",
   "metadata": {},
   "source": [
    "Import required libraries"
   ]
  },
  {
   "cell_type": "code",
   "execution_count": 106,
   "id": "c56db67a",
   "metadata": {},
   "outputs": [],
   "source": [
    "import pandas as pd\n",
    "import numpy as np\n",
    "import seaborn as sns\n",
    "import matplotlib.pyplot as plt\n",
    "import numpy\n",
    "import matplotlib.pyplot as plt"
   ]
  },
  {
   "cell_type": "markdown",
   "id": "cefa0af4",
   "metadata": {},
   "source": [
    "Read final dataset from Phase - 1"
   ]
  },
  {
   "cell_type": "code",
   "execution_count": 107,
   "id": "c350d7f2",
   "metadata": {},
   "outputs": [],
   "source": [
    "data = pd.read_csv('final_dataset.csv')"
   ]
  },
  {
   "cell_type": "markdown",
   "id": "19370fbc",
   "metadata": {},
   "source": [
    "Shuffle the dataset usnig Numpy Random Permutation"
   ]
  },
  {
   "cell_type": "code",
   "execution_count": 108,
   "id": "d919c262",
   "metadata": {},
   "outputs": [],
   "source": [
    "shuffle_index = np.random.permutation(data.shape[0])\n",
    "data = data.iloc[shuffle_index]"
   ]
  },
  {
   "cell_type": "markdown",
   "id": "5e0041d7",
   "metadata": {},
   "source": [
    "Use 70% of the dataset for training, and remaining 30% for testing."
   ]
  },
  {
   "cell_type": "code",
   "execution_count": 109,
   "id": "c8a0d593",
   "metadata": {},
   "outputs": [],
   "source": [
    "train_size = int(data.shape[0]*0.7)"
   ]
  },
  {
   "cell_type": "code",
   "execution_count": 110,
   "id": "f5d377b8",
   "metadata": {},
   "outputs": [
    {
     "name": "stdout",
     "output_type": "stream",
     "text": [
      "Train_Shape:  (8000, 34)\n",
      "Test_Shape:  (3429, 34)\n"
     ]
    }
   ],
   "source": [
    "train_df = data.iloc[:train_size,:] \n",
    "\n",
    "test_df = data.iloc[train_size:,:]\n",
    "\n",
    "train = train_df.values\n",
    "\n",
    "test = test_df.values\n",
    "\n",
    "y_true = test[:,-1]\n",
    "\n",
    "print('Train_Shape: ',train_df.shape)\n",
    "print('Test_Shape: ',test_df.shape)"
   ]
  },
  {
   "attachments": {
    "image.png": {
     "image/png": "[encoded data removed]"
    }
   },
   "cell_type": "markdown",
   "id": "b45e270b",
   "metadata": {},
   "source": [
    "Define Euclidean Distance Function \n",
    "\n",
    "![image.png](attachment:image.png)"
   ]
  },
  {
   "cell_type": "code",
   "execution_count": 111,
   "id": "73facd7b",
   "metadata": {},
   "outputs": [],
   "source": [
    "from math import sqrt\n",
    "\n",
    "def euclidean_distance(x_test, x_train):\n",
    "    \"\"\"\n",
    "    Calculates Euclidean distance between two given vectors.\n",
    "    Args: Vector A, Vector B\n",
    "    Returns: Distance between two given vectors.\n",
    "    \"\"\"\n",
    "    \n",
    "    distance = 0\n",
    "    \n",
    "    for i in range(len(x_test)-1):\n",
    "        distance = distance + (x_test[i] - x_train[i])**2\n",
    "    \n",
    "    #print (\"XTEST\", x_test)\n",
    "    #print (\"XTRAIN\", x_train)\n",
    "    #print (\"DIST\", distance)\n",
    "    return sqrt(distance)"
   ]
  },
  {
   "cell_type": "code",
   "execution_count": 112,
   "id": "5d092d09",
   "metadata": {},
   "outputs": [],
   "source": [
    "def find_n_neighbors(x_test, x_train, N):\n",
    "    \"\"\"\n",
    "    Function that finds N nearest neighbors of a vector by calculating euclidean distance between them.\n",
    "    \n",
    "    Args: \n",
    "        x_test : Vector A, \n",
    "        x_train : Set of vectors\n",
    "        N : Number of nearest neighbors required\n",
    "        \n",
    "    Returns:\n",
    "        N Closest vectors to vector A\n",
    "        \n",
    "    \"\"\"\n",
    "    \n",
    "    distances = []\n",
    "    data = []\n",
    "    \n",
    "    # For each datapoint in training set,\n",
    "    # find the distance from X_test vector\n",
    "    for row in x_train:\n",
    "        distances.append(euclidean_distance(x_test, row))\n",
    "  \n",
    "    # Sort distances and return N records\n",
    "    distances = np.array(distances)\n",
    "    data = np.array(x_train)\n",
    "    sort_indexes = distances.argsort()             \n",
    "    data = data[sort_indexes]  \n",
    "    \n",
    "    return data[:N]               "
   ]
  },
  {
   "cell_type": "code",
   "execution_count": 113,
   "id": "e96b0285",
   "metadata": {},
   "outputs": [],
   "source": [
    "def knn(x_test, x_train, N):\n",
    "    \"\"\"\n",
    "        The KNN Classifier Function\n",
    "        Arguments:\n",
    "            x_test : Test point\n",
    "            x_train : Set of N vectors\n",
    "            N : no of nearest neighbours\n",
    "        Returns:\n",
    "            Class of test point   \n",
    "    \"\"\"\n",
    "    \n",
    "    positive = 0\n",
    "    negative = 0\n",
    "\n",
    "    # Find N nearest neighbours\n",
    "    # Class of the test point will be\n",
    "    # class of majority of nearing classes\n",
    "    neighbors = find_n_neighbors(x_test, x_train, N)\n",
    "    \n",
    "    for i in neighbors:\n",
    "        \n",
    "        if i[-1] == 0:\n",
    "            negative += 1\n",
    "        else:\n",
    "            positive += 1\n",
    "        \n",
    "    if negative > positive:\n",
    "        return 0\n",
    "    \n",
    "    return 1"
   ]
  },
  {
   "cell_type": "code",
   "execution_count": 114,
   "id": "0455a22f",
   "metadata": {},
   "outputs": [],
   "source": [
    "def calculate_accuracy(y_true, y_pred):\n",
    "    \"\"\"\n",
    "    Function to calculate accuracy given predicted classes, and originally correct classes.\n",
    "    Args:\n",
    "        y_true : Actual true classes\n",
    "        y_pred : Classes predicted using KNN \n",
    "        \n",
    "    Returns:\n",
    "        Accuracy \n",
    "    \"\"\"\n",
    "    correct = 0\n",
    "    \n",
    "    for i in range(len(y_true)):\n",
    "        if y_true[i] == y_pred[i]:\n",
    "            correct += 1\n",
    "            \n",
    "    accuracy = correct / len(y_true)\n",
    "    return accuracy"
   ]
  },
  {
   "cell_type": "code",
   "execution_count": 116,
   "id": "8f7deac4",
   "metadata": {},
   "outputs": [],
   "source": [
    "y_pred = []\n",
    "\n",
    "for row in test:\n",
    "    y_pred.append(knn(row, train, 3))"
   ]
  },
  {
   "cell_type": "code",
   "execution_count": 103,
   "id": "c04d9f86",
   "metadata": {},
   "outputs": [
    {
     "data": {
      "text/plain": [
       "array([1., 1.])"
      ]
     },
     "execution_count": 103,
     "metadata": {},
     "output_type": "execute_result"
    }
   ],
   "source": [
    "y_true"
   ]
  },
  {
   "cell_type": "code",
   "execution_count": 118,
   "id": "dd3865d0",
   "metadata": {},
   "outputs": [
    {
     "data": {
      "text/plain": [
       "0.8226888305628464"
      ]
     },
     "execution_count": 118,
     "metadata": {},
     "output_type": "execute_result"
    }
   ],
   "source": [
    "calculate_accuracy(y_true, y_pred)"
   ]
  }
 ],
 "metadata": {
  "kernelspec": {
   "display_name": "Python 3 (ipykernel)",
   "language": "python",
   "name": "python3"
  },
  "language_info": {
   "codemirror_mode": {
    "name": "ipython",
    "version": 3
   },
   "file_extension": ".py",
   "mimetype": "text/x-python",
   "name": "python",
   "nbconvert_exporter": "python",
   "pygments_lexer": "ipython3",
   "version": "3.9.7"
  }
 },
 "nbformat": 4,
 "nbformat_minor": 5
}
