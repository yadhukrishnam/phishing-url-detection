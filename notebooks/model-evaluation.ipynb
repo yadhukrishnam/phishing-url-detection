{
 "cells": [
  {
   "cell_type": "markdown",
   "id": "e30426af",
   "metadata": {},
   "source": [
    "## 19CSE305 - Machine Learning\n",
    "## Phishing URL Detection using Machine Learning\n",
    "#### YADHU KRISHNA M - AM.EN.U4CSE19264"
   ]
  },
  {
   "cell_type": "markdown",
   "id": "b64e6878",
   "metadata": {},
   "source": [
    "Comparison of Various Machine Learning Models for the problem"
   ]
  },
  {
   "cell_type": "markdown",
   "id": "6cc8f496",
   "metadata": {},
   "source": [
    "Import required libraries"
   ]
  },
  {
   "cell_type": "code",
   "execution_count": 38,
   "id": "90d7e962",
   "metadata": {},
   "outputs": [],
   "source": [
    "import pandas as pd\n",
    "import numpy as np\n",
    "import matplotlib.pyplot as plt\n",
    "import numpy\n",
    "import matplotlib.pyplot as plt\n",
    "\n",
    "\n",
    "import warnings\n",
    "warnings.filterwarnings('ignore')\n",
    "\n",
    "from sklearn.metrics import classification_report, confusion_matrix\n",
    "from sklearn.model_selection import train_test_split\n",
    "from sklearn.model_selection import KFold"
   ]
  },
  {
   "cell_type": "markdown",
   "id": "7cc1b94e",
   "metadata": {},
   "source": [
    "Load the dataset from phase 1"
   ]
  },
  {
   "cell_type": "code",
   "execution_count": 7,
   "id": "bf8816bf",
   "metadata": {
    "scrolled": true
   },
   "outputs": [
    {
     "data": {
      "text/html": [
       "<div>\n",
       "<style scoped>\n",
       "    .dataframe tbody tr th:only-of-type {\n",
       "        vertical-align: middle;\n",
       "    }\n",
       "\n",
       "    .dataframe tbody tr th {\n",
       "        vertical-align: top;\n",
       "    }\n",
       "\n",
       "    .dataframe thead th {\n",
       "        text-align: right;\n",
       "    }\n",
       "</style>\n",
       "<table border=\"1\" class=\"dataframe\">\n",
       "  <thead>\n",
       "    <tr style=\"text-align: right;\">\n",
       "      <th></th>\n",
       "      <th>0.01534683855125844</th>\n",
       "      <th>0.071428571428571438</th>\n",
       "      <th>0</th>\n",
       "      <th>0.086956521739130432</th>\n",
       "      <th>0.1</th>\n",
       "      <th>0.2</th>\n",
       "      <th>0.3</th>\n",
       "      <th>0.4</th>\n",
       "      <th>0.5</th>\n",
       "      <th>0.6</th>\n",
       "      <th>...</th>\n",
       "      <th>0.19</th>\n",
       "      <th>0.20</th>\n",
       "      <th>0.21</th>\n",
       "      <th>0.22</th>\n",
       "      <th>0.23</th>\n",
       "      <th>0.24</th>\n",
       "      <th>1.1</th>\n",
       "      <th>0.027397260273972601</th>\n",
       "      <th>0.25</th>\n",
       "      <th>0.26</th>\n",
       "    </tr>\n",
       "  </thead>\n",
       "  <tbody>\n",
       "    <tr>\n",
       "      <th>0</th>\n",
       "      <td>0.039902</td>\n",
       "      <td>0.090476</td>\n",
       "      <td>1</td>\n",
       "      <td>0.000000</td>\n",
       "      <td>0.000000</td>\n",
       "      <td>0.0</td>\n",
       "      <td>0.000000</td>\n",
       "      <td>0.000000</td>\n",
       "      <td>0</td>\n",
       "      <td>0.000000</td>\n",
       "      <td>...</td>\n",
       "      <td>0</td>\n",
       "      <td>0</td>\n",
       "      <td>0</td>\n",
       "      <td>0</td>\n",
       "      <td>0</td>\n",
       "      <td>0</td>\n",
       "      <td>0.0</td>\n",
       "      <td>0.027397</td>\n",
       "      <td>0</td>\n",
       "      <td>1</td>\n",
       "    </tr>\n",
       "    <tr>\n",
       "      <th>1</th>\n",
       "      <td>0.069982</td>\n",
       "      <td>0.219048</td>\n",
       "      <td>1</td>\n",
       "      <td>0.130435</td>\n",
       "      <td>0.023256</td>\n",
       "      <td>0.0</td>\n",
       "      <td>0.333333</td>\n",
       "      <td>0.105263</td>\n",
       "      <td>0</td>\n",
       "      <td>0.157895</td>\n",
       "      <td>...</td>\n",
       "      <td>0</td>\n",
       "      <td>0</td>\n",
       "      <td>0</td>\n",
       "      <td>0</td>\n",
       "      <td>1</td>\n",
       "      <td>0</td>\n",
       "      <td>1.0</td>\n",
       "      <td>0.013699</td>\n",
       "      <td>0</td>\n",
       "      <td>1</td>\n",
       "    </tr>\n",
       "    <tr>\n",
       "      <th>2</th>\n",
       "      <td>0.003683</td>\n",
       "      <td>0.033333</td>\n",
       "      <td>0</td>\n",
       "      <td>0.043478</td>\n",
       "      <td>0.000000</td>\n",
       "      <td>0.0</td>\n",
       "      <td>0.000000</td>\n",
       "      <td>0.000000</td>\n",
       "      <td>0</td>\n",
       "      <td>0.000000</td>\n",
       "      <td>...</td>\n",
       "      <td>0</td>\n",
       "      <td>0</td>\n",
       "      <td>0</td>\n",
       "      <td>0</td>\n",
       "      <td>0</td>\n",
       "      <td>0</td>\n",
       "      <td>0.5</td>\n",
       "      <td>0.000000</td>\n",
       "      <td>0</td>\n",
       "      <td>0</td>\n",
       "    </tr>\n",
       "    <tr>\n",
       "      <th>3</th>\n",
       "      <td>0.026397</td>\n",
       "      <td>0.052381</td>\n",
       "      <td>0</td>\n",
       "      <td>0.043478</td>\n",
       "      <td>0.046512</td>\n",
       "      <td>0.0</td>\n",
       "      <td>0.000000</td>\n",
       "      <td>0.000000</td>\n",
       "      <td>0</td>\n",
       "      <td>0.000000</td>\n",
       "      <td>...</td>\n",
       "      <td>0</td>\n",
       "      <td>0</td>\n",
       "      <td>0</td>\n",
       "      <td>0</td>\n",
       "      <td>0</td>\n",
       "      <td>0</td>\n",
       "      <td>0.5</td>\n",
       "      <td>0.020548</td>\n",
       "      <td>0</td>\n",
       "      <td>0</td>\n",
       "    </tr>\n",
       "    <tr>\n",
       "      <th>4</th>\n",
       "      <td>0.012277</td>\n",
       "      <td>0.095238</td>\n",
       "      <td>0</td>\n",
       "      <td>0.086957</td>\n",
       "      <td>0.023256</td>\n",
       "      <td>0.0</td>\n",
       "      <td>0.000000</td>\n",
       "      <td>0.000000</td>\n",
       "      <td>0</td>\n",
       "      <td>0.000000</td>\n",
       "      <td>...</td>\n",
       "      <td>0</td>\n",
       "      <td>0</td>\n",
       "      <td>0</td>\n",
       "      <td>0</td>\n",
       "      <td>0</td>\n",
       "      <td>0</td>\n",
       "      <td>1.0</td>\n",
       "      <td>0.020548</td>\n",
       "      <td>0</td>\n",
       "      <td>1</td>\n",
       "    </tr>\n",
       "  </tbody>\n",
       "</table>\n",
       "<p>5 rows × 34 columns</p>\n",
       "</div>"
      ],
      "text/plain": [
       "   0.01534683855125844  0.071428571428571438  0  0.086956521739130432  \\\n",
       "0             0.039902              0.090476  1              0.000000   \n",
       "1             0.069982              0.219048  1              0.130435   \n",
       "2             0.003683              0.033333  0              0.043478   \n",
       "3             0.026397              0.052381  0              0.043478   \n",
       "4             0.012277              0.095238  0              0.086957   \n",
       "\n",
       "        0.1  0.2       0.3       0.4  0.5       0.6  ...  0.19  0.20  0.21  \\\n",
       "0  0.000000  0.0  0.000000  0.000000    0  0.000000  ...     0     0     0   \n",
       "1  0.023256  0.0  0.333333  0.105263    0  0.157895  ...     0     0     0   \n",
       "2  0.000000  0.0  0.000000  0.000000    0  0.000000  ...     0     0     0   \n",
       "3  0.046512  0.0  0.000000  0.000000    0  0.000000  ...     0     0     0   \n",
       "4  0.023256  0.0  0.000000  0.000000    0  0.000000  ...     0     0     0   \n",
       "\n",
       "   0.22  0.23  0.24  1.1  0.027397260273972601  0.25  0.26  \n",
       "0     0     0     0  0.0              0.027397     0     1  \n",
       "1     0     1     0  1.0              0.013699     0     1  \n",
       "2     0     0     0  0.5              0.000000     0     0  \n",
       "3     0     0     0  0.5              0.020548     0     0  \n",
       "4     0     0     0  1.0              0.020548     0     1  \n",
       "\n",
       "[5 rows x 34 columns]"
      ]
     },
     "execution_count": 7,
     "metadata": {},
     "output_type": "execute_result"
    }
   ],
   "source": [
    "data = pd.read_csv(\"./final_dataset.csv\")\n",
    "#data = data.drop(['Unnamed: 0'], axis=1)\n",
    "\n",
    "data.head()"
   ]
  },
  {
   "cell_type": "code",
   "execution_count": 8,
   "id": "9b0efd0f",
   "metadata": {},
   "outputs": [
    {
     "data": {
      "text/plain": [
       "(11429, 34)"
      ]
     },
     "execution_count": 8,
     "metadata": {},
     "output_type": "execute_result"
    }
   ],
   "source": [
    "data.shape"
   ]
  },
  {
   "cell_type": "code",
   "execution_count": 10,
   "id": "fb608d81",
   "metadata": {
    "scrolled": true
   },
   "outputs": [
    {
     "name": "stdout",
     "output_type": "stream",
     "text": [
      "<class 'pandas.core.frame.DataFrame'>\n",
      "RangeIndex: 11429 entries, 0 to 11428\n",
      "Data columns (total 34 columns):\n",
      " #   Column                Non-Null Count  Dtype  \n",
      "---  ------                --------------  -----  \n",
      " 0   0.01534683855125844   11429 non-null  float64\n",
      " 1   0.071428571428571438  11429 non-null  float64\n",
      " 2   0                     11429 non-null  int64  \n",
      " 3   0.086956521739130432  11429 non-null  float64\n",
      " 4   0.1                   11429 non-null  float64\n",
      " 5   0.2                   11429 non-null  float64\n",
      " 6   0.3                   11429 non-null  float64\n",
      " 7   0.4                   11429 non-null  float64\n",
      " 8   0.5                   11429 non-null  int64  \n",
      " 9   0.6                   11429 non-null  float64\n",
      " 10  0.7                   11429 non-null  float64\n",
      " 11  0.8                   11429 non-null  int64  \n",
      " 12  0.9                   11429 non-null  float64\n",
      " 13  0.10                  11429 non-null  int64  \n",
      " 14  0.11                  11429 non-null  float64\n",
      " 15  0.12                  11429 non-null  float64\n",
      " 16  0.13                  11429 non-null  float64\n",
      " 17  0.14                  11429 non-null  float64\n",
      " 18  0.15                  11429 non-null  float64\n",
      " 19  0.5.1                 11429 non-null  float64\n",
      " 20  0.16                  11429 non-null  float64\n",
      " 21  0.17                  11429 non-null  int64  \n",
      " 22  0.18                  11429 non-null  float64\n",
      " 23  1                     11429 non-null  int64  \n",
      " 24  0.19                  11429 non-null  int64  \n",
      " 25  0.20                  11429 non-null  int64  \n",
      " 26  0.21                  11429 non-null  int64  \n",
      " 27  0.22                  11429 non-null  int64  \n",
      " 28  0.23                  11429 non-null  int64  \n",
      " 29  0.24                  11429 non-null  int64  \n",
      " 30  1.1                   11429 non-null  float64\n",
      " 31  0.027397260273972601  11429 non-null  float64\n",
      " 32  0.25                  11429 non-null  int64  \n",
      " 33  0.26                  11429 non-null  int64  \n",
      "dtypes: float64(20), int64(14)\n",
      "memory usage: 3.0 MB\n",
      "None\n"
     ]
    }
   ],
   "source": [
    "print(data.info())"
   ]
  },
  {
   "cell_type": "markdown",
   "id": "40eb5025",
   "metadata": {},
   "source": [
    "Split the dataset into train and test"
   ]
  },
  {
   "cell_type": "code",
   "execution_count": 15,
   "id": "b473aa8b",
   "metadata": {},
   "outputs": [],
   "source": [
    "arr = data.values\n",
    "X = arr[:,0:33]\n",
    "Y = arr[:,33]\n",
    "\n",
    "X_train, X_test, y_train, y_test = train_test_split(X, Y, test_size=0.30)"
   ]
  },
  {
   "cell_type": "markdown",
   "id": "eeee447e",
   "metadata": {},
   "source": [
    "Define a function that can be used to compute KFold Accuracy for each model"
   ]
  },
  {
   "cell_type": "code",
   "execution_count": 20,
   "id": "04b18413",
   "metadata": {},
   "outputs": [],
   "source": [
    "results = {\n",
    "    \"KNN\": 0,\n",
    "    \"SVM\": 0,\n",
    "    \"Naive Bayes\": 0,\n",
    "    \"Decision Tree\": 0,\n",
    "}\n",
    "\n",
    "cv = KFold(n_splits=10, random_state=1, shuffle=True)\n",
    "\n",
    "# Returns average accuracy of a classifier using KFold Cross-Validation\n",
    "\n",
    "def report(y_test, y_pred, classifier):\n",
    "\n",
    "    scores = cross_val_score(classifier, X, Y, scoring='accuracy', cv=cv, n_jobs=-1)\n",
    "\n",
    "    avg_accuracy = sum(scores) / len(scores)\n",
    "           \n",
    "    return avg_accuracy"
   ]
  },
  {
   "cell_type": "markdown",
   "id": "8ee52451",
   "metadata": {},
   "source": [
    "## KNN Classifier"
   ]
  },
  {
   "cell_type": "markdown",
   "id": "da5f44b7",
   "metadata": {},
   "source": [
    "Run KNN algorithm for various values of 'n'"
   ]
  },
  {
   "cell_type": "code",
   "execution_count": 37,
   "id": "6dd39579",
   "metadata": {
    "scrolled": true
   },
   "outputs": [
    {
     "data": {
      "application/javascript": [
       "\n",
       "        if (window._pyforest_update_imports_cell) { window._pyforest_update_imports_cell('from sklearn.model_selection import train_test_split\\nfrom sklearn.model_selection import cross_val_score\\nfrom sklearn.model_selection import KFold\\nfrom sklearn import svm'); }\n",
       "    "
      ],
      "text/plain": [
       "<IPython.core.display.Javascript object>"
      ]
     },
     "metadata": {},
     "output_type": "display_data"
    },
    {
     "data": {
      "application/javascript": [
       "\n",
       "        if (window._pyforest_update_imports_cell) { window._pyforest_update_imports_cell('from sklearn.model_selection import train_test_split\\nfrom sklearn.model_selection import cross_val_score\\nfrom sklearn.model_selection import KFold\\nfrom sklearn import svm'); }\n",
       "    "
      ],
      "text/plain": [
       "<IPython.core.display.Javascript object>"
      ]
     },
     "metadata": {},
     "output_type": "display_data"
    },
    {
     "data": {
      "application/javascript": [
       "\n",
       "        if (window._pyforest_update_imports_cell) { window._pyforest_update_imports_cell('from sklearn.model_selection import train_test_split\\nfrom sklearn.model_selection import cross_val_score\\nfrom sklearn.model_selection import KFold\\nfrom sklearn import svm'); }\n",
       "    "
      ],
      "text/plain": [
       "<IPython.core.display.Javascript object>"
      ]
     },
     "metadata": {},
     "output_type": "display_data"
    },
    {
     "data": {
      "application/javascript": [
       "\n",
       "        if (window._pyforest_update_imports_cell) { window._pyforest_update_imports_cell('from sklearn.model_selection import train_test_split\\nfrom sklearn.model_selection import cross_val_score\\nfrom sklearn.model_selection import KFold\\nfrom sklearn import svm'); }\n",
       "    "
      ],
      "text/plain": [
       "<IPython.core.display.Javascript object>"
      ]
     },
     "metadata": {},
     "output_type": "display_data"
    },
    {
     "data": {
      "application/javascript": [
       "\n",
       "        if (window._pyforest_update_imports_cell) { window._pyforest_update_imports_cell('from sklearn.model_selection import train_test_split\\nfrom sklearn.model_selection import cross_val_score\\nfrom sklearn.model_selection import KFold\\nfrom sklearn import svm'); }\n",
       "    "
      ],
      "text/plain": [
       "<IPython.core.display.Javascript object>"
      ]
     },
     "metadata": {},
     "output_type": "display_data"
    },
    {
     "data": {
      "application/javascript": [
       "\n",
       "        if (window._pyforest_update_imports_cell) { window._pyforest_update_imports_cell('from sklearn.model_selection import train_test_split\\nfrom sklearn.model_selection import cross_val_score\\nfrom sklearn.model_selection import KFold\\nfrom sklearn import svm'); }\n",
       "    "
      ],
      "text/plain": [
       "<IPython.core.display.Javascript object>"
      ]
     },
     "metadata": {},
     "output_type": "display_data"
    },
    {
     "data": {
      "application/javascript": [
       "\n",
       "        if (window._pyforest_update_imports_cell) { window._pyforest_update_imports_cell('from sklearn.model_selection import train_test_split\\nfrom sklearn.model_selection import cross_val_score\\nfrom sklearn.model_selection import KFold\\nfrom sklearn import svm'); }\n",
       "    "
      ],
      "text/plain": [
       "<IPython.core.display.Javascript object>"
      ]
     },
     "metadata": {},
     "output_type": "display_data"
    },
    {
     "data": {
      "application/javascript": [
       "\n",
       "        if (window._pyforest_update_imports_cell) { window._pyforest_update_imports_cell('from sklearn.model_selection import train_test_split\\nfrom sklearn.model_selection import cross_val_score\\nfrom sklearn.model_selection import KFold\\nfrom sklearn import svm'); }\n",
       "    "
      ],
      "text/plain": [
       "<IPython.core.display.Javascript object>"
      ]
     },
     "metadata": {},
     "output_type": "display_data"
    },
    {
     "data": {
      "application/javascript": [
       "\n",
       "        if (window._pyforest_update_imports_cell) { window._pyforest_update_imports_cell('from sklearn.model_selection import train_test_split\\nfrom sklearn.model_selection import cross_val_score\\nfrom sklearn.model_selection import KFold\\nfrom sklearn import svm'); }\n",
       "    "
      ],
      "text/plain": [
       "<IPython.core.display.Javascript object>"
      ]
     },
     "metadata": {},
     "output_type": "display_data"
    },
    {
     "data": {
      "application/javascript": [
       "\n",
       "        if (window._pyforest_update_imports_cell) { window._pyforest_update_imports_cell('from sklearn.model_selection import train_test_split\\nfrom sklearn.model_selection import cross_val_score\\nfrom sklearn.model_selection import KFold\\nfrom sklearn import svm'); }\n",
       "    "
      ],
      "text/plain": [
       "<IPython.core.display.Javascript object>"
      ]
     },
     "metadata": {},
     "output_type": "display_data"
    },
    {
     "data": {
      "application/javascript": [
       "\n",
       "        if (window._pyforest_update_imports_cell) { window._pyforest_update_imports_cell('from sklearn.model_selection import train_test_split\\nfrom sklearn.model_selection import cross_val_score\\nfrom sklearn.model_selection import KFold\\nfrom sklearn import svm'); }\n",
       "    "
      ],
      "text/plain": [
       "<IPython.core.display.Javascript object>"
      ]
     },
     "metadata": {},
     "output_type": "display_data"
    },
    {
     "data": {
      "application/javascript": [
       "\n",
       "        if (window._pyforest_update_imports_cell) { window._pyforest_update_imports_cell('from sklearn.model_selection import train_test_split\\nfrom sklearn.model_selection import cross_val_score\\nfrom sklearn.model_selection import KFold\\nfrom sklearn import svm'); }\n",
       "    "
      ],
      "text/plain": [
       "<IPython.core.display.Javascript object>"
      ]
     },
     "metadata": {},
     "output_type": "display_data"
    }
   ],
   "source": [
    "from sklearn.neighbors import KNeighborsClassifier\n",
    "\n",
    "scores = []\n",
    "\n",
    "for n in range(1, 25, 2):\n",
    "    knn_classifier = KNeighborsClassifier(n_neighbors=n)\n",
    "\n",
    "    knn_classifier.fit(X_train, y_train)\n",
    "\n",
    "    y_pred = knn_classifier.predict(X_test)\n",
    "\n",
    "    accuracy = report(y_test, y_pred, knn_classifier)\n",
    "    \n",
    "    scores.append((n, accuracy))\n"
   ]
  },
  {
   "cell_type": "markdown",
   "id": "bb28a1c4",
   "metadata": {},
   "source": [
    "It could be noted that as the value of N increases above 3, the accuracy decreases"
   ]
  },
  {
   "cell_type": "code",
   "execution_count": 49,
   "id": "67f24237",
   "metadata": {
    "scrolled": true
   },
   "outputs": [
    {
     "data": {
      "text/plain": [
       "[(1, 0.8212444438315613),\n",
       " (3, 0.833582010654973),\n",
       " (5, 0.8262327760693662),\n",
       " (7, 0.825445374494563),\n",
       " (9, 0.8181830927001025),\n",
       " (11, 0.8153838257083015),\n",
       " (13, 0.8168716760667614),\n",
       " (15, 0.8126722776115333),\n",
       " (17, 0.8103969490678814),\n",
       " (19, 0.8054097659859067),\n",
       " (21, 0.8053219704804851),\n",
       " (23, 0.8050589670161633)]"
      ]
     },
     "execution_count": 49,
     "metadata": {},
     "output_type": "execute_result"
    }
   ],
   "source": [
    "scores"
   ]
  },
  {
   "cell_type": "code",
   "execution_count": 22,
   "id": "62ade554",
   "metadata": {},
   "outputs": [
    {
     "name": "stdout",
     "output_type": "stream",
     "text": [
      "Best K: 3\n",
      "KNN Accuracy Score: 0.833582010654973\n"
     ]
    }
   ],
   "source": [
    "max_perfomance = max(scores,key=lambda item:item[1])\n",
    "\n",
    "best_k = max_perfomance[0]\n",
    "score = max_perfomance[1]\n",
    "\n",
    "results[\"KNN\"] = score\n",
    "\n",
    "print (\"Best K:\", best_k)\n",
    "print (\"KNN Accuracy Score:\", score)"
   ]
  },
  {
   "cell_type": "markdown",
   "id": "aa68ad39",
   "metadata": {},
   "source": [
    "The best value of N for KNN is 3, and the maximum attained accuracy is 0.83"
   ]
  },
  {
   "cell_type": "code",
   "execution_count": 23,
   "id": "3b9a5769",
   "metadata": {},
   "outputs": [
    {
     "data": {
      "image/png": "[encoded data removed]",
      "text/plain": [
       "<Figure size 432x288 with 1 Axes>"
      ]
     },
     "metadata": {
      "needs_background": "light"
     },
     "output_type": "display_data"
    }
   ],
   "source": [
    "x = [k for k, accuracy in scores]\n",
    "y = [accuracy for k, accuracy in scores]\n",
    "\n",
    "colors = np.random.rand(len(y))\n",
    "\n",
    "plt.scatter(x, y, c=colors, alpha=1)\n",
    "plt.xlabel('K')\n",
    "plt.ylabel('Accuracy')\n",
    "plt.plot(x, y)\n",
    "plt.show()"
   ]
  },
  {
   "cell_type": "markdown",
   "id": "468d8ba0",
   "metadata": {},
   "source": [
    "## SVM"
   ]
  },
  {
   "cell_type": "markdown",
   "id": "ce706ac1",
   "metadata": {},
   "source": [
    "Running SVM for various Kernels"
   ]
  },
  {
   "cell_type": "code",
   "execution_count": 36,
   "id": "1931237b",
   "metadata": {},
   "outputs": [
    {
     "data": {
      "application/javascript": [
       "\n",
       "        if (window._pyforest_update_imports_cell) { window._pyforest_update_imports_cell('from sklearn.model_selection import train_test_split\\nfrom sklearn.model_selection import cross_val_score\\nfrom sklearn.model_selection import KFold\\nfrom sklearn import svm'); }\n",
       "    "
      ],
      "text/plain": [
       "<IPython.core.display.Javascript object>"
      ]
     },
     "metadata": {},
     "output_type": "display_data"
    },
    {
     "data": {
      "application/javascript": [
       "\n",
       "        if (window._pyforest_update_imports_cell) { window._pyforest_update_imports_cell('from sklearn.model_selection import train_test_split\\nfrom sklearn.model_selection import cross_val_score\\nfrom sklearn.model_selection import KFold\\nfrom sklearn import svm'); }\n",
       "    "
      ],
      "text/plain": [
       "<IPython.core.display.Javascript object>"
      ]
     },
     "metadata": {},
     "output_type": "display_data"
    },
    {
     "data": {
      "application/javascript": [
       "\n",
       "        if (window._pyforest_update_imports_cell) { window._pyforest_update_imports_cell('from sklearn.model_selection import train_test_split\\nfrom sklearn.model_selection import cross_val_score\\nfrom sklearn.model_selection import KFold\\nfrom sklearn import svm'); }\n",
       "    "
      ],
      "text/plain": [
       "<IPython.core.display.Javascript object>"
      ]
     },
     "metadata": {},
     "output_type": "display_data"
    },
    {
     "data": {
      "application/javascript": [
       "\n",
       "        if (window._pyforest_update_imports_cell) { window._pyforest_update_imports_cell('from sklearn.model_selection import train_test_split\\nfrom sklearn.model_selection import cross_val_score\\nfrom sklearn.model_selection import KFold\\nfrom sklearn import svm'); }\n",
       "    "
      ],
      "text/plain": [
       "<IPython.core.display.Javascript object>"
      ]
     },
     "metadata": {},
     "output_type": "display_data"
    }
   ],
   "source": [
    "from sklearn import svm\n",
    "\n",
    "kernels = [\"poly\", \"rbf\", \"sigmoid\", \"linear\"]\n",
    "scores = []\n",
    "\n",
    "for kernel in kernels:\n",
    "    clf = svm.SVC(kernel=kernel) \n",
    "\n",
    "    clf.fit(X_train, y_train)\n",
    "\n",
    "    y_pred = clf.predict(X_test)\n",
    "\n",
    "    accuracy = report(y_test, y_pred, clf)\n",
    "    \n",
    "    scores.append((kernel, accuracy))\n"
   ]
  },
  {
   "cell_type": "markdown",
   "id": "934a693c",
   "metadata": {},
   "source": [
    "RBF Kernel gives the highest accuracy of 0.77 in SVM"
   ]
  },
  {
   "cell_type": "code",
   "execution_count": 26,
   "id": "31090a71",
   "metadata": {
    "scrolled": false
   },
   "outputs": [
    {
     "data": {
      "text/plain": [
       "[('poly', 0.7615748337937618),\n",
       " ('rbf', 0.7774086689251409),\n",
       " ('sigmoid', 0.6595510171561304),\n",
       " ('linear', 0.7676089744473711)]"
      ]
     },
     "execution_count": 26,
     "metadata": {},
     "output_type": "execute_result"
    }
   ],
   "source": [
    "scores"
   ]
  },
  {
   "cell_type": "code",
   "execution_count": 27,
   "id": "221c7683",
   "metadata": {},
   "outputs": [
    {
     "data": {
      "image/png": "[encoded data removed]",
      "text/plain": [
       "<Figure size 432x288 with 1 Axes>"
      ]
     },
     "metadata": {
      "needs_background": "light"
     },
     "output_type": "display_data"
    }
   ],
   "source": [
    "x = [kernel for kernel, accuracy in scores]\n",
    "y = [accuracy for kernel, accuracy in scores]\n",
    "\n",
    "colors = np.random.rand(len(y))\n",
    "\n",
    "plt.scatter(x, y, c=colors, alpha=1)\n",
    "plt.xlabel('Kernels')\n",
    "plt.ylabel('Accuracy')\n",
    "plt.plot(x, y)\n",
    "plt.show()"
   ]
  },
  {
   "cell_type": "code",
   "execution_count": 28,
   "id": "a1f117e9",
   "metadata": {},
   "outputs": [
    {
     "name": "stdout",
     "output_type": "stream",
     "text": [
      "Best Kernel : rbf\n",
      "SVM Accuracy Score : 0.7774086689251409\n"
     ]
    }
   ],
   "source": [
    "max_perfomance = max(scores,key=lambda item:item[1])\n",
    "\n",
    "best_kernel = max_perfomance[0]\n",
    "score = max_perfomance[1]\n",
    "\n",
    "results[\"SVM\"] = score\n",
    "\n",
    "print (\"Best Kernel :\", best_kernel)\n",
    "print (\"SVM Accuracy Score :\", score)"
   ]
  },
  {
   "cell_type": "markdown",
   "id": "e0b63456",
   "metadata": {},
   "source": [
    "## Gaussian Naive Bayes"
   ]
  },
  {
   "cell_type": "code",
   "execution_count": 35,
   "id": "d86b78cc",
   "metadata": {},
   "outputs": [
    {
     "data": {
      "application/javascript": [
       "\n",
       "        if (window._pyforest_update_imports_cell) { window._pyforest_update_imports_cell('from sklearn.model_selection import train_test_split\\nfrom sklearn.model_selection import cross_val_score\\nfrom sklearn.model_selection import KFold\\nfrom sklearn import svm'); }\n",
       "    "
      ],
      "text/plain": [
       "<IPython.core.display.Javascript object>"
      ]
     },
     "metadata": {},
     "output_type": "display_data"
    },
    {
     "name": "stdout",
     "output_type": "stream",
     "text": [
      "Avg. accuracy  0.617988885364811\n",
      "              precision    recall  f1-score   support\n",
      "\n",
      "         0.0       0.57      0.97      0.72      1708\n",
      "         1.0       0.90      0.26      0.41      1721\n",
      "\n",
      "    accuracy                           0.62      3429\n",
      "   macro avg       0.74      0.62      0.56      3429\n",
      "weighted avg       0.74      0.62      0.56      3429\n",
      "\n"
     ]
    }
   ],
   "source": [
    "from sklearn.naive_bayes import GaussianNB\n",
    "\n",
    "gnb = GaussianNB()\n",
    "\n",
    "gnb.fit(X_train, y_train)\n",
    "\n",
    "y_pred = gnb.predict(X_test)\n",
    "\n",
    "accuracy = report(y_test, y_pred, gnb)\n",
    "\n",
    "results[\"Naive Bayes\"] = accuracy\n",
    "\n",
    "print (\"Avg. accuracy \", accuracy)\n",
    "\n",
    "print (classification_report(y_test, y_pred))"
   ]
  },
  {
   "cell_type": "markdown",
   "id": "a77ad2c1",
   "metadata": {},
   "source": [
    "## Decision Tree"
   ]
  },
  {
   "cell_type": "code",
   "execution_count": 40,
   "id": "6311e4b0",
   "metadata": {
    "scrolled": true
   },
   "outputs": [
    {
     "data": {
      "application/javascript": [
       "\n",
       "        if (window._pyforest_update_imports_cell) { window._pyforest_update_imports_cell('from sklearn.model_selection import train_test_split\\nfrom sklearn.model_selection import cross_val_score\\nfrom sklearn.model_selection import KFold\\nfrom sklearn import svm'); }\n",
       "    "
      ],
      "text/plain": [
       "<IPython.core.display.Javascript object>"
      ]
     },
     "metadata": {},
     "output_type": "display_data"
    },
    {
     "name": "stdout",
     "output_type": "stream",
     "text": [
      "Decision Tree accuracy score:  0.8211562652741963\n",
      "              precision    recall  f1-score   support\n",
      "\n",
      "         0.0       0.79      0.83      0.81      1708\n",
      "         1.0       0.82      0.78      0.80      1721\n",
      "\n",
      "    accuracy                           0.80      3429\n",
      "   macro avg       0.80      0.80      0.80      3429\n",
      "weighted avg       0.80      0.80      0.80      3429\n",
      "\n"
     ]
    }
   ],
   "source": [
    "from sklearn.tree import DecisionTreeClassifier\n",
    "\n",
    "DTC = DecisionTreeClassifier()\n",
    "\n",
    "DTC.fit(X_train,y_train)\n",
    "\n",
    "y_pred = DTC.predict(X_test)\n",
    "\n",
    "accuracy = report(y_test, y_pred, DTC)\n",
    "\n",
    "results[\"Decision Tree\"] = accuracy\n",
    "\n",
    "print (\"Decision Tree accuracy score: \", accuracy)\n",
    "\n",
    "print (classification_report(y_test, y_pred))"
   ]
  },
  {
   "cell_type": "markdown",
   "id": "cb658ae9",
   "metadata": {},
   "source": [
    "## Logistic Regression"
   ]
  },
  {
   "cell_type": "code",
   "execution_count": 41,
   "id": "36f60453",
   "metadata": {},
   "outputs": [
    {
     "data": {
      "application/javascript": [
       "\n",
       "        if (window._pyforest_update_imports_cell) { window._pyforest_update_imports_cell('from sklearn.model_selection import train_test_split\\nfrom sklearn.model_selection import cross_val_score\\nfrom sklearn.model_selection import KFold\\nfrom sklearn import svm'); }\n",
       "    "
      ],
      "text/plain": [
       "<IPython.core.display.Javascript object>"
      ]
     },
     "metadata": {},
     "output_type": "display_data"
    },
    {
     "name": "stdout",
     "output_type": "stream",
     "text": [
      "Avg. accuracy  0.7785465630281329\n",
      "              precision    recall  f1-score   support\n",
      "\n",
      "         0.0       0.78      0.75      0.77      1708\n",
      "         1.0       0.76      0.79      0.78      1721\n",
      "\n",
      "    accuracy                           0.77      3429\n",
      "   macro avg       0.77      0.77      0.77      3429\n",
      "weighted avg       0.77      0.77      0.77      3429\n",
      "\n"
     ]
    }
   ],
   "source": [
    "from sklearn.linear_model import LogisticRegression\n",
    "\n",
    "logreg = LogisticRegression()\n",
    "\n",
    "logreg.fit(X_train,y_train)\n",
    "\n",
    "y_pred = logreg.predict(X_test)\n",
    "\n",
    "accuracy = report(y_test, y_pred, logreg)\n",
    "\n",
    "results[\"Logistic Regression\"] = accuracy\n",
    "\n",
    "print (\"Avg. accuracy \", accuracy)\n",
    "\n",
    "print (classification_report(y_test, y_pred))"
   ]
  },
  {
   "cell_type": "markdown",
   "id": "106e5640",
   "metadata": {},
   "source": [
    "## Summarizing Results"
   ]
  },
  {
   "cell_type": "code",
   "execution_count": 42,
   "id": "c9b8a072",
   "metadata": {
    "scrolled": true
   },
   "outputs": [
    {
     "data": {
      "text/plain": [
       "{'KNN': 0.833582010654973,\n",
       " 'SVM': 0.7774086689251409,\n",
       " 'Naive Bayes': 0.617988885364811,\n",
       " 'Decision Tree': 0.8211562652741963,\n",
       " 'Logistic Regression': 0.7785465630281329}"
      ]
     },
     "execution_count": 42,
     "metadata": {},
     "output_type": "execute_result"
    }
   ],
   "source": [
    "results"
   ]
  },
  {
   "cell_type": "code",
   "execution_count": 43,
   "id": "ffab6119",
   "metadata": {},
   "outputs": [],
   "source": [
    "results.keys()\n",
    "scores = [results[key] for key in results]"
   ]
  },
  {
   "cell_type": "code",
   "execution_count": 44,
   "id": "1b291b3c",
   "metadata": {},
   "outputs": [
    {
     "data": {
      "text/plain": [
       "{'KNN': 0.833582010654973,\n",
       " 'SVM': 0.7774086689251409,\n",
       " 'Naive Bayes': 0.617988885364811,\n",
       " 'Decision Tree': 0.8211562652741963,\n",
       " 'Logistic Regression': 0.7785465630281329}"
      ]
     },
     "execution_count": 44,
     "metadata": {},
     "output_type": "execute_result"
    }
   ],
   "source": [
    "results"
   ]
  },
  {
   "cell_type": "code",
   "execution_count": 45,
   "id": "661b395a",
   "metadata": {
    "scrolled": true
   },
   "outputs": [
    {
     "data": {
      "image/png": "[encoded data removed]",
      "text/plain": [
       "<Figure size 432x288 with 1 Axes>"
      ]
     },
     "metadata": {
      "needs_background": "light"
     },
     "output_type": "display_data"
    }
   ],
   "source": [
    "fig = plt.figure()\n",
    "ax = fig.add_axes([1,0,1,1])\n",
    "\n",
    "models = [model for model in results]\n",
    "scores = [results[model] for model in results]\n",
    "ax.bar(models,scores)\n",
    "plt.show()"
   ]
  }
 ],
 "metadata": {
  "kernelspec": {
   "display_name": "Python 3 (ipykernel)",
   "language": "python",
   "name": "python3"
  },
  "language_info": {
   "codemirror_mode": {
    "name": "ipython",
    "version": 3
   },
   "file_extension": ".py",
   "mimetype": "text/x-python",
   "name": "python",
   "nbconvert_exporter": "python",
   "pygments_lexer": "ipython3",
   "version": "3.9.7"
  }
 },
 "nbformat": 4,
 "nbformat_minor": 5
}
